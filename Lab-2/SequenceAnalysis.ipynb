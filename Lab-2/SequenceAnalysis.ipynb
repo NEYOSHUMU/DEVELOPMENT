{
 "cells": [
  {
   "cell_type": "markdown",
   "metadata": {},
   "source": [
    "## Introduction to Bioinformatics - Sequence Alignment"
   ]
  },
  {
   "cell_type": "markdown",
   "metadata": {
    "collapsed": true
   },
   "source": [
    "This tutorial will show the basics of Bioinformatics using Biopython. \n",
    "[Biopython](http://biopython.org/) is a set of Python Tools for Computational Molecular Biology.\n",
    " \n",
    "1. View E.coli (Escherichia coli) genome sequence\n",
    "   * Compute GC content\n",
    "   * Reverse Complement of sequence\n",
    "2. Pairwise Sequence Alignment\n",
    "   * Local alignment using Smith-Waterman algorithm\n",
    "   * Global alignment using Needleman-Wunsch algorithm\n",
    "\n"
   ]
  },
  {
   "cell_type": "code",
   "execution_count": 1,
   "metadata": {
    "collapsed": true
   },
   "outputs": [],
   "source": [
    "import numpy as np\n",
    "import Bio\n"
   ]
  },
  {
   "cell_type": "code",
   "execution_count": 2,
   "metadata": {},
   "outputs": [
    {
     "name": "stdout",
     "output_type": "stream",
     "text": [
      "1.70\n"
     ]
    }
   ],
   "source": [
    "print(Bio.__version__) #version of Biopython installed"
   ]
  },
  {
   "cell_type": "markdown",
   "metadata": {
    "collapsed": true
   },
   "source": [
    "## 1. The complete genome sequence of Escherichia coli K-12- [E.coli](https://www.ncbi.nlm.nih.gov/nuccore/U00096)"
   ]
  },
  {
   "cell_type": "markdown",
   "metadata": {},
   "source": [
    "Sequences are essentially strings of letters like AGTACACTGGT"
   ]
  },
  {
   "cell_type": "code",
   "execution_count": 5,
   "metadata": {},
   "outputs": [
    {
     "name": "stdout",
     "output_type": "stream",
     "text": [
      "ID: U00096.3\n",
      "Name: U00096.3\n",
      "Description: U00096.3 Escherichia coli str. K-12 substr. MG1655, complete genome\n",
      "Number of features: 0\n",
      "Seq('AGCTTTTCATTCTGACTGCAACGGGCAATATGTCTCTGTGTGGATTAAAAAAAG...TTC', SingleLetterAlphabet())\n",
      "Seq('AGCTTTTCATTCTGACTGCAACGGGCAATATGTCTCTGTGTGGATTAAAAAAAG...TTC', SingleLetterAlphabet())\n",
      "4641652\n"
     ]
    }
   ],
   "source": [
    "from Bio import SeqIO\n",
    "for seq_record in SeqIO.parse(\"figs/E_coli.fasta\", \"fasta\"):\n",
    "#for seq_record in SeqIO.parse(\"figs/Vibrio_cholerae.fasta\", \"fasta\"):\n",
    "    print(seq_record)            #gives header information of sequence\n",
    "    print(repr(seq_record.seq))  #view a snapshot of sequence\n",
    "    print(len(seq_record))      #length of sequence"
   ]
  },
  {
   "cell_type": "markdown",
   "metadata": {},
   "source": [
    "### a) To compute some details of the sequence composition\n",
    "The nucleotide frequency -Guanine (G) and Cytosine (C) nucleotide bases (GC content).\n",
    "\n",
    "The GC content is used to predict the annealing temperature of the\n",
    "sequence during PCR experiments"
   ]
  },
  {
   "cell_type": "code",
   "execution_count": 34,
   "metadata": {},
   "outputs": [
    {
     "name": "stdout",
     "output_type": "stream",
     "text": [
      "number of g's 24\n",
      "number of a's 47\n",
      "number of c's 23\n",
      "number of t's 37\n"
     ]
    }
   ],
   "source": [
    "#finding the GC content in the given sequence \n",
    "\n",
    "#set the values to 0\n",
    "g=0;\n",
    "a=0;\n",
    "c=0;\n",
    "t=0;\n",
    "\n",
    "myseq='AAAGAGTGTCTGATAGCAGCTTCTGAACTGGTTACCTGCCGTGAGTAAATTAAATTT\\\n",
    "TATTGACTTAGGTCACTAAATACTTTAACCAATATAGGCATAGCGCACAGACAGATAATAATTACAGAGTACAC'\n",
    "for x in myseq:\n",
    "    x = x.lower()\n",
    "    if x=='g':\n",
    "        g+=1\n",
    "    if x=='c':\n",
    "        c+=1\n",
    "    if x=='a':\n",
    "        a+=1\n",
    "    if x=='t':\n",
    "        t+=1\n",
    "print (\"number of g's \" + str(g))\n",
    "print (\"number of a's \" + str(a))\n",
    "print (\"number of c's \" + str(c))\n",
    "print (\"number of t's \" + str(t))        "
   ]
  },
  {
   "cell_type": "code",
   "execution_count": 35,
   "metadata": {},
   "outputs": [
    {
     "name": "stdout",
     "output_type": "stream",
     "text": [
      "gc content: 35.87786259541985\n"
     ]
    }
   ],
   "source": [
    "#the GC content\n",
    "#0. =converting to floating point\n",
    "gc = (g+c+0.) /(a+t+c+g+0.)*100\n",
    "\n",
    "print(\"gc content: \" + str(gc))"
   ]
  },
  {
   "cell_type": "markdown",
   "metadata": {},
   "source": [
    "## Now using Biopython - GC content"
   ]
  },
  {
   "cell_type": "code",
   "execution_count": 36,
   "metadata": {},
   "outputs": [
    {
     "data": {
      "text/plain": [
       "35.87786259541985"
      ]
     },
     "execution_count": 36,
     "metadata": {},
     "output_type": "execute_result"
    }
   ],
   "source": [
    "#using SeqUtils function on biopython\n",
    "#generating a sequence\n",
    "from Bio.Seq import Seq\n",
    "mybioseq = Seq(myseq)\n",
    "\n",
    "from Bio import SeqUtils\n",
    "SeqUtils.GC(mybioseq)"
   ]
  },
  {
   "cell_type": "code",
   "execution_count": 6,
   "metadata": {},
   "outputs": [
    {
     "data": {
      "text/plain": [
       "23.529411764705884"
      ]
     },
     "execution_count": 6,
     "metadata": {},
     "output_type": "execute_result"
    }
   ],
   "source": [
    "#Consider the 4.6 million long E_coli bacteri genome sequence\n",
    "#using SeqUtils function on biopython\n",
    "from Bio import SeqUtils\n",
    "SeqUtils.GC(\"figs/E_coli.fasta\")\n"
   ]
  },
  {
   "cell_type": "code",
   "execution_count": 7,
   "metadata": {},
   "outputs": [
    {
     "data": {
      "text/plain": [
       "15.384615384615385"
      ]
     },
     "execution_count": 7,
     "metadata": {},
     "output_type": "execute_result"
    }
   ],
   "source": [
    "#Consider the 4million long Vibrio cholerae bacteria genome sequence\n",
    "SeqUtils.GC(\"figs/Vibrio_cholerae.fasta\")"
   ]
  },
  {
   "cell_type": "markdown",
   "metadata": {},
   "source": [
    "### b) Determine the reverse complement of nucleotide sequences\n",
    "__A__ and __T__ are complements of each other\n",
    "\n",
    "\n",
    "__G__ and __C__ are complements of each other\n",
    "\n",
    "1. Reverse input\n",
    "2. Complement the reversed input\n",
    "\n",
    "TASK 1\n",
    "-------\n",
    "Input:  ACACAC\n",
    "\n",
    "Output: GTGTGT\n",
    "\n",
    "TASK 2\n",
    "-------\n",
    "\n",
    "Input:  AGCTTTTCATTCTGACTGCAACGGGCAATATGTCTCTGTGTGGATTAAAAAAAGAGTGTCTGATAGCAGC\n",
    "\n",
    "Output: GCTGCTATCAGACACTCTTTTTTTAATCCACACAGAGACATATTGCCCGTTGCAGTCAGAATGAAAAGCT \n"
   ]
  },
  {
   "cell_type": "code",
   "execution_count": 9,
   "metadata": {},
   "outputs": [
    {
     "name": "stdout",
     "output_type": "stream",
     "text": [
      "ACCGGGTTTT\n"
     ]
    }
   ],
   "source": [
    "# Input: A DNA string Pattern 'AAAACCCGGT'\n",
    "# Output: The reverse complement of Pattern 'ACCGGGTTTT'\n",
    "\n",
    "def ReverseComplement(Pattern):\n",
    "    revComp = '' # output variable\n",
    "    p = Reverse(Pattern)\n",
    "    revComp = revComp + complement(p)\n",
    "    return revComp\n",
    "\n",
    "def Reverse(Nucleo):\n",
    "    revse = '' #output variable\n",
    "    l = len(Nucleo)-1\n",
    "    while l >= 0:\n",
    "        revse = revse + Nucleo[l]\n",
    "        l -= 1\n",
    "    return revse\n",
    "\n",
    "# Input: A character Nucleotide\n",
    "# Output: The complement of Nucleotide\n",
    "def complement(Nucleotide):\n",
    "    comp = '' # output variable\n",
    "    # your code here\n",
    "    for i in Nucleotide:\n",
    "        if i=='A':\n",
    "            comp = comp + 'T'\n",
    "        elif i=='T':\n",
    "            comp = comp + 'A'\n",
    "        elif i== 'G':\n",
    "            comp = comp + 'C'\n",
    "        elif i== 'C':\n",
    "            comp = comp + 'G'\n",
    "    return comp\n",
    "\n",
    "inputseq='AAAACCCGGT'\n",
    "print(ReverseComplement(inputseq))\n"
   ]
  },
  {
   "cell_type": "markdown",
   "metadata": {},
   "source": [
    "## Now using Biopython - Reverse Complement"
   ]
  },
  {
   "cell_type": "code",
   "execution_count": 10,
   "metadata": {},
   "outputs": [
    {
     "name": "stdout",
     "output_type": "stream",
     "text": [
      "ACCGGGTTTT\n"
     ]
    }
   ],
   "source": [
    "#generating a sequence\n",
    "from Bio.Seq import Seq\n",
    "my_seq = Seq(inputseq)\n",
    "revSeq=my_seq.reverse_complement()\n",
    "print(revSeq)"
   ]
  },
  {
   "cell_type": "code",
   "execution_count": null,
   "metadata": {
    "collapsed": true
   },
   "outputs": [],
   "source": []
  },
  {
   "cell_type": "markdown",
   "metadata": {
    "collapsed": true
   },
   "source": [
    "### Pairwise Sequence Alignment\n",
    "__Global alignment__ using __Needleman-Wunsch algorithm__\n",
    "\n",
    "The Needleman-Wunsch algorithm is application of dynamic programming to biological sequence analysis.\n",
    "\n",
    "The Needleman-Wunsch algorithm finds the best-scoring global alignment between two sequences.\n"
   ]
  },
  {
   "cell_type": "code",
   "execution_count": 3,
   "metadata": {},
   "outputs": [
    {
     "name": "stdout",
     "output_type": "stream",
     "text": [
      "ACGGGT\n",
      "||||||\n",
      "AC--G-\n",
      "  Score=3\n",
      "\n",
      "ACGGGT\n",
      "||||||\n",
      "AC-G--\n",
      "  Score=3\n",
      "\n",
      "ACGGGT\n",
      "||||||\n",
      "ACG---\n",
      "  Score=3\n",
      "\n"
     ]
    }
   ],
   "source": [
    "# Import pairwise2 module\n",
    "from Bio import pairwise2\n",
    "\n",
    "# Import format_alignment method\n",
    "from Bio.pairwise2 import format_alignment\n",
    "\n",
    "# Define two sequences to be aligned\n",
    "X = \"ACGGGT\"\n",
    "Y = \"ACG\"\n",
    "\n",
    "# Get a list of the global alignments between the two sequences ACGGGT and ACG\n",
    "# No parameters. Identical characters have score of 1, else 0.\n",
    "# No gap penalties.\n",
    "alignments = pairwise2.align.globalxx(X, Y)\n",
    "\n",
    "# Use format_alignment method to format the alignments in the list\n",
    "for a in alignments:\n",
    "    print(format_alignment(*a))\n"
   ]
  },
  {
   "cell_type": "code",
   "execution_count": 4,
   "metadata": {},
   "outputs": [
    {
     "name": "stdout",
     "output_type": "stream",
     "text": [
      "-ACGTCTCA-TCA\n",
      "|||||||||||||\n",
      "TA-G--T--GTCA\n",
      "  Score=6\n",
      "\n",
      "-ACGTCTCA-TCA\n",
      "|||||||||||||\n",
      "TA-GT----GTCA\n",
      "  Score=6\n",
      "\n",
      "-ACGTCTCATCA\n",
      "||||||||||||\n",
      "TA-G--T-GTCA\n",
      "  Score=6\n",
      "\n",
      "-ACGTCTCATCA\n",
      "||||||||||||\n",
      "TA-GT---GTCA\n",
      "  Score=6\n",
      "\n",
      "-ACGTCTCATCA\n",
      "||||||||||||\n",
      "TA-G--TG-TCA\n",
      "  Score=6\n",
      "\n",
      "-ACGTCTCATCA\n",
      "||||||||||||\n",
      "TA-GT--G-TCA\n",
      "  Score=6\n",
      "\n",
      "-ACGTCTCATCA\n",
      "||||||||||||\n",
      "TA-GT-G--TCA\n",
      "  Score=6\n",
      "\n",
      "-ACGTCTCATCA\n",
      "||||||||||||\n",
      "TA-GTG---TCA\n",
      "  Score=6\n",
      "\n",
      "-ACGTC-TCATCA\n",
      "|||||||||||||\n",
      "TA-GT-GT---CA\n",
      "  Score=6\n",
      "\n",
      "-ACGTCTCATCA\n",
      "||||||||||||\n",
      "TA-GTGT---CA\n",
      "  Score=6\n",
      "\n",
      "-ACGTC-TCATCA\n",
      "|||||||||||||\n",
      "TA-GT-GTC---A\n",
      "  Score=6\n",
      "\n",
      "-ACGTCTCATCA\n",
      "||||||||||||\n",
      "TA-GTGTC---A\n",
      "  Score=6\n",
      "\n",
      "-ACGTC-TCATCA\n",
      "|||||||||||||\n",
      "TA-GT-GTCA---\n",
      "  Score=6\n",
      "\n",
      "-ACGTCTCATCA\n",
      "||||||||||||\n",
      "TA-GTGTCA---\n",
      "  Score=6\n",
      "\n"
     ]
    }
   ],
   "source": [
    "#another set of sequences for global alignment\n",
    "s1 =\"ACGTCTCATCA\"\n",
    "s2 =\"TAGTGTCA\"\n",
    "\n",
    "#Using Needleman-Wunsch algorithm\n",
    "alignments = pairwise2.align.globalxx(s1, s2)\n",
    "\n",
    "# Use format_alignment method to format the alignments in the list\n",
    "for a in alignments:\n",
    "    print(format_alignment(*a))\n",
    "\n"
   ]
  },
  {
   "cell_type": "code",
   "execution_count": 6,
   "metadata": {},
   "outputs": [
    {
     "name": "stdout",
     "output_type": "stream",
     "text": [
      "CTTAGA\n",
      "||||||\n",
      "-GTA-A\n",
      "  Score=-2\n",
      "\n",
      "CTTAGA\n",
      "||||||\n",
      "G-TA-A\n",
      "  Score=-2\n",
      "\n",
      "CTTAGA\n",
      "||||||\n",
      "GT-A-A\n",
      "  Score=-2\n",
      "\n"
     ]
    }
   ],
   "source": [
    "#another set of sequences for global alignment\n",
    "s1 =\"CTTAGA\"\n",
    "s2 =\"GTAA\"\n",
    "\n",
    "# Get a list of the global alignments between the two sequences CTTAGA and GTAA satisfying the given scoring\n",
    "# A match score is the score of identical chars =1,\n",
    "# mismatch score = -1\n",
    "# Same open and extend gap penalties = -2 for both sequences\n",
    "\n",
    "alignments = pairwise2.align.globalms(s1, s2,1,-1,-2,-2)\n",
    "\n",
    "# Use format_alignment method to format the alignments in the list\n",
    "for a in alignments:\n",
    "    print(format_alignment(*a))\n"
   ]
  },
  {
   "cell_type": "code",
   "execution_count": null,
   "metadata": {
    "collapsed": true
   },
   "outputs": [],
   "source": []
  },
  {
   "cell_type": "markdown",
   "metadata": {},
   "source": [
    "### Pairwise Sequence Alignment\n",
    "__Local alignment__ using __Smith-Waterman algorithm__\n",
    "\n",
    "The Smith-Waterman algorithm is application of dynamic programming to biological sequence analysis.\n",
    "\n",
    "The Smith-Waterman algorithm finds all pairs of subsequences that have the highest-scoring alignments\n"
   ]
  },
  {
   "cell_type": "code",
   "execution_count": 7,
   "metadata": {},
   "outputs": [
    {
     "name": "stdout",
     "output_type": "stream",
     "text": [
      "CTTAGA\n",
      "  ||\n",
      "-GTAA-\n",
      "  Score=2\n",
      "\n"
     ]
    }
   ],
   "source": [
    "#another set of sequences for local alignment\n",
    "s1 =\"CTTAGA\"\n",
    "s2 =\"GTAA\"\n",
    "\n",
    "# Get a list of the local alignments between the two sequences ACGGGT and ACG satisfying the given scoring\n",
    "# A match score is the score of identical chars =1,\n",
    "# mismatch score = -1\n",
    "# Same open and extend gap penalties = -2 for both sequences\n",
    "\n",
    "alignments = pairwise2.align.localms(s1, s2,1,-1,-2,-2)\n",
    "\n",
    "# Use format_alignment method to format the alignments in the list\n",
    "for a in alignments:\n",
    "    print(format_alignment(*a))"
   ]
  },
  {
   "cell_type": "code",
   "execution_count": 11,
   "metadata": {},
   "outputs": [
    {
     "ename": "NameError",
     "evalue": "name 'pairwise2' is not defined",
     "output_type": "error",
     "traceback": [
      "\u001b[1;31m---------------------------------------------------------------------------\u001b[0m",
      "\u001b[1;31mNameError\u001b[0m                                 Traceback (most recent call last)",
      "\u001b[1;32m<ipython-input-11-6414c9e69468>\u001b[0m in \u001b[0;36m<module>\u001b[1;34m()\u001b[0m\n\u001b[0;32m      4\u001b[0m \u001b[1;33m\u001b[0m\u001b[0m\n\u001b[0;32m      5\u001b[0m \u001b[1;31m#Using Smith-Waterman algorithm\u001b[0m\u001b[1;33m\u001b[0m\u001b[1;33m\u001b[0m\u001b[0m\n\u001b[1;32m----> 6\u001b[1;33m \u001b[0malignments\u001b[0m \u001b[1;33m=\u001b[0m \u001b[0mpairwise2\u001b[0m\u001b[1;33m.\u001b[0m\u001b[0malign\u001b[0m\u001b[1;33m.\u001b[0m\u001b[0mlocalxx\u001b[0m\u001b[1;33m(\u001b[0m\u001b[0ms1\u001b[0m\u001b[1;33m,\u001b[0m \u001b[0ms2\u001b[0m\u001b[1;33m)\u001b[0m\u001b[1;33m\u001b[0m\u001b[0m\n\u001b[0m\u001b[0;32m      7\u001b[0m \u001b[1;33m\u001b[0m\u001b[0m\n\u001b[0;32m      8\u001b[0m \u001b[1;31m# Use format_alignment method to format the alignments in the list\u001b[0m\u001b[1;33m\u001b[0m\u001b[1;33m\u001b[0m\u001b[0m\n",
      "\u001b[1;31mNameError\u001b[0m: name 'pairwise2' is not defined"
     ]
    }
   ],
   "source": [
    "#another set of sequences for local alignment\n",
    "s1 = \"ACGGGT\"\n",
    "s2 = \"ACG\"\n",
    "\n",
    "#Using Smith-Waterman algorithm\n",
    "alignments = pairwise2.align.localxx(s1, s2)\n",
    "\n",
    "# Use format_alignment method to format the alignments in the list\n",
    "for a in alignments:\n",
    "    print(format_alignment(*a))"
   ]
  },
  {
   "cell_type": "code",
   "execution_count": null,
   "metadata": {
    "collapsed": true
   },
   "outputs": [],
   "source": []
  },
  {
   "cell_type": "code",
   "execution_count": null,
   "metadata": {
    "collapsed": true
   },
   "outputs": [],
   "source": []
  },
  {
   "cell_type": "code",
   "execution_count": null,
   "metadata": {
    "collapsed": true
   },
   "outputs": [],
   "source": []
  }
 ],
 "metadata": {
  "anaconda-cloud": {},
  "kernelspec": {
   "display_name": "Python 2",
   "language": "python",
   "name": "python2"
  },
  "language_info": {
   "codemirror_mode": {
    "name": "ipython",
    "version": 3
   },
   "file_extension": ".py",
   "mimetype": "text/x-python",
   "name": "python",
   "nbconvert_exporter": "python",
   "pygments_lexer": "ipython3",
   "version": "3.6.4"
  },
  "latex_envs": {
   "LaTeX_envs_menu_present": true,
   "autocomplete": true,
   "bibliofile": "biblio.bib",
   "cite_by": "apalike",
   "current_citInitial": 1,
   "eqLabelWithNumbers": true,
   "eqNumInitial": 1,
   "hotkeys": {
    "equation": "Ctrl-E",
    "itemize": "Ctrl-I"
   },
   "labels_anchors": false,
   "latex_user_defs": false,
   "report_style_numbering": false,
   "user_envs_cfg": false
  }
 },
 "nbformat": 4,
 "nbformat_minor": 1
}
